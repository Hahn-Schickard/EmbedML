{
 "cells": [
  {
   "cell_type": "markdown",
   "metadata": {
    "id": "UvUxfhjppFqN"
   },
   "source": [
    "# Halbüberwachtes Lernen (engl. Semi-Supervised Learning)"
   ]
  },
  {
   "cell_type": "markdown",
   "metadata": {
    "id": "G3Z5GA_HRNcv"
   },
   "source": [
    "Dieses Notebook ist Teil des Projekts [EmbedML](https://hahn-schickard.gitbook.io/embedml) und basiert auf den Inhalten des Kapitels [Halbüberwachtes Lernen (engl. Semi-Supervised Learning)](https://hahn-schickard.gitbook.io/embedml/2_ml/2.6_halbueberwachtes_lernen). Es ist auf [Colab](https://colab.research.google.com/drive/1t2Fd31oUw3iGYEfxePokLX1JWBnxjn1I?usp=sharing) und im [GitHub-Repository von Hahn-Schickard](https://github.com/Hahn-Schickard/EmbedML/blob/master/src/Halbueberwachtes_Lernen.ipynb) zu finden."
   ]
  },
  {
   "cell_type": "markdown",
   "metadata": {},
   "source": [
    "Installation der benötigten Bibliotheken in den angegebenen Versionen."
   ]
  },
  {
   "cell_type": "code",
   "execution_count": 1,
   "metadata": {
    "executionInfo": {
     "elapsed": 33169,
     "status": "ok",
     "timestamp": 1732011667119,
     "user": {
      "displayName": "Hahn Schickard",
      "userId": "17354940616293626699"
     },
     "user_tz": -60
    },
    "id": "0CubLJe37vNF"
   },
   "outputs": [
    {
     "name": "stderr",
     "output_type": "stream",
     "text": [
      "Das System kann den angegebenen Pfad nicht finden.\n"
     ]
    }
   ],
   "source": [
    "!pip install tensorflow==2.17.1 numpy==1.26.4 matplotlib==3.8.0 scikit-learn==1.5.2 > /dev/null 2>&1"
   ]
  },
  {
   "cell_type": "markdown",
   "metadata": {
    "id": "peJvpwhgRNcw"
   },
   "source": [
    "Laden der benötigten Bibliotheken."
   ]
  },
  {
   "cell_type": "code",
   "execution_count": 2,
   "metadata": {
    "executionInfo": {
     "elapsed": 3,
     "status": "ok",
     "timestamp": 1732011667119,
     "user": {
      "displayName": "Hahn Schickard",
      "userId": "17354940616293626699"
     },
     "user_tz": -60
    },
    "id": "Y7067ECDRNcw"
   },
   "outputs": [],
   "source": [
    "import matplotlib.pyplot as plt\n",
    "import numpy as np\n",
    "import tensorflow as tf\n",
    "from sklearn.metrics import accuracy_score\n",
    "from sklearn.model_selection import train_test_split\n",
    "from tensorflow.keras.datasets import mnist"
   ]
  },
  {
   "cell_type": "markdown",
   "metadata": {
    "id": "j0gOiqRCpJFg"
   },
   "source": [
    "## Self-Training\n"
   ]
  },
  {
   "cell_type": "markdown",
   "metadata": {
    "id": "A-oQMuegRNcx"
   },
   "source": [
    "Laden des MNIST-Datensatzes.<br>\n",
    "Der Datensatz enthält 60.000 Trainingsbilder und -label, sowie 10.000 Testbilder und -label."
   ]
  },
  {
   "cell_type": "code",
   "execution_count": 3,
   "metadata": {
    "colab": {
     "base_uri": "https://localhost:8080/"
    },
    "executionInfo": {
     "elapsed": 257,
     "status": "ok",
     "timestamp": 1732011667374,
     "user": {
      "displayName": "Hahn Schickard",
      "userId": "17354940616293626699"
     },
     "user_tz": -60
    },
    "id": "3nMBZO1vRNcx",
    "outputId": "35b912f8-7105-49e2-dcbf-f498d28d8199"
   },
   "outputs": [
    {
     "name": "stdout",
     "output_type": "stream",
     "text": [
      "Format der Trainingsdaten: (60000, 28, 28)\n",
      "Format der Testdaten: (10000, 28, 28)\n"
     ]
    }
   ],
   "source": [
    "(X, y), (X_test, y_test) = mnist.load_data()\n",
    "\n",
    "print(f\"Format der Trainingsdaten: {X.shape}\")\n",
    "print(f\"Format der Testdaten: {X_test.shape}\")"
   ]
  },
  {
   "cell_type": "markdown",
   "metadata": {
    "id": "n-vrXilnRNcy"
   },
   "source": [
    "Umformen und Normalisieren der Daten.<br>\n",
    "Die Bilder werden aus der zweidimensionalen Darstellung in eine eindimensionale Darstellung überführt und später so dem neuronalen Netz übergeben."
   ]
  },
  {
   "cell_type": "code",
   "execution_count": 4,
   "metadata": {
    "colab": {
     "base_uri": "https://localhost:8080/"
    },
    "executionInfo": {
     "elapsed": 609,
     "status": "ok",
     "timestamp": 1732011667981,
     "user": {
      "displayName": "Hahn Schickard",
      "userId": "17354940616293626699"
     },
     "user_tz": -60
    },
    "id": "b-e2L8ssRNcy",
    "outputId": "ec5f0b54-58f9-4dee-b0db-943a52714e92"
   },
   "outputs": [
    {
     "name": "stdout",
     "output_type": "stream",
     "text": [
      "Format der Daten vor der Umformung: (60000, 28, 28) - Min-Wert: 0 - Max-Wert: 255\n",
      "Format der Daten nach der Umformung: (60000, 784) - Min-Wert: 0.0 - Max-Wert: 1.0\n"
     ]
    }
   ],
   "source": [
    "print(f\"Format der Daten vor der Umformung: {X.shape} - Min-Wert: {np.min(X)} - Max-Wert: {np.max(X)}\")\n",
    "\n",
    "X = X.reshape((60000, 28 * 28)).astype('float32') / 255\n",
    "X_test = X_test.reshape((10000, 28 * 28)).astype('float32') / 255\n",
    "\n",
    "print(f\"Format der Daten nach der Umformung: {X.shape} - Min-Wert: {np.min(X)} - Max-Wert: {np.max(X)}\")"
   ]
  },
  {
   "cell_type": "markdown",
   "metadata": {
    "id": "GdnJt6cXRNcz"
   },
   "source": [
    "Aufteilen der Daten in gelabelte und ungelabelte. Da Semi-Supervised Learning angewendet werden soll, wird für die ungelabelten Daten kein Label benötigt.<br>\n",
    "Hier verwenden wir nur 10% der Daten als gelabelte Daten und von 90% der Daten sollen die Label automatisiert ermittelt werden."
   ]
  },
  {
   "cell_type": "code",
   "execution_count": 5,
   "metadata": {
    "colab": {
     "base_uri": "https://localhost:8080/"
    },
    "executionInfo": {
     "elapsed": 389,
     "status": "ok",
     "timestamp": 1732011668368,
     "user": {
      "displayName": "Hahn Schickard",
      "userId": "17354940616293626699"
     },
     "user_tz": -60
    },
    "id": "2Yw5C4iZRNcz",
    "outputId": "73e4e4fb-8bfe-4913-b79f-f6f2ccd9b895"
   },
   "outputs": [
    {
     "name": "stdout",
     "output_type": "stream",
     "text": [
      "Format der gelabelten Daten: (6000, 784)\n",
      "Format der ungelabelten Daten: (54000, 784)\n"
     ]
    }
   ],
   "source": [
    "X_labeled, X_unlabeled, y_labeled, _ = train_test_split(X, y, test_size=0.9, random_state=42)\n",
    "\n",
    "print(f\"Format der gelabelten Daten: {X_labeled.shape}\")\n",
    "print(f\"Format der ungelabelten Daten: {X_unlabeled.shape}\")"
   ]
  },
  {
   "cell_type": "markdown",
   "metadata": {
    "id": "AKOqUOBwRNcz"
   },
   "source": [
    "Definition eines kleinen Klassifikationsmodells"
   ]
  },
  {
   "cell_type": "code",
   "execution_count": 6,
   "metadata": {
    "colab": {
     "base_uri": "https://localhost:8080/",
     "height": 208
    },
    "executionInfo": {
     "elapsed": 11,
     "status": "ok",
     "timestamp": 1732011668369,
     "user": {
      "displayName": "Hahn Schickard",
      "userId": "17354940616293626699"
     },
     "user_tz": -60
    },
    "id": "iOjCmhA4RNcz",
    "outputId": "64494bb9-c6b4-4440-ff14-1a2e1ddf01bf"
   },
   "outputs": [
    {
     "name": "stdout",
     "output_type": "stream",
     "text": [
      "Model: \"sequential\"\n",
      "_________________________________________________________________\n",
      " Layer (type)                Output Shape              Param #   \n",
      "=================================================================\n",
      " dense (Dense)               (None, 64)                50240     \n",
      "                                                                 \n",
      " dense_1 (Dense)             (None, 10)                650       \n",
      "                                                                 \n",
      "=================================================================\n",
      "Total params: 50,890\n",
      "Trainable params: 50,890\n",
      "Non-trainable params: 0\n",
      "_________________________________________________________________\n"
     ]
    }
   ],
   "source": [
    "model = tf.keras.Sequential([\n",
    "    tf.keras.layers.Input(shape=(784,)),  #28*28\n",
    "    tf.keras.layers.Dense(64, activation='relu'),\n",
    "    tf.keras.layers.Dense(10, activation='softmax')\n",
    "])\n",
    "\n",
    "model.summary()"
   ]
  },
  {
   "cell_type": "markdown",
   "metadata": {
    "id": "dMQMoTwRRNc0"
   },
   "source": [
    "Kompilieren des Modells"
   ]
  },
  {
   "cell_type": "code",
   "execution_count": 7,
   "metadata": {
    "executionInfo": {
     "elapsed": 8,
     "status": "ok",
     "timestamp": 1732011668369,
     "user": {
      "displayName": "Hahn Schickard",
      "userId": "17354940616293626699"
     },
     "user_tz": -60
    },
    "id": "FrqqTztERNc0"
   },
   "outputs": [],
   "source": [
    "model.compile(optimizer='adam', loss='sparse_categorical_crossentropy', metrics=['accuracy'])"
   ]
  },
  {
   "cell_type": "markdown",
   "metadata": {
    "id": "BewrglW8RNc0"
   },
   "source": [
    "Durchführung von 5 Iteratrion des Self-Trainings mit ungelabelen Daten.<br>\n",
    "Im Folgenden werden die einzelnen Schritte einer Iteration beschrieben:<br>\n",
    "1. Das Modell wird im ersten Schritt mit den gelabelten Daten trainiert.\n",
    "2. Anschließend werden für die ungelabelten Daten die möglichen Label durch das Modell ermittelt.\n",
    "3. Ist die Vorhersage gut genug werden die jeweiligen Daten den gelabelten Daten hinzugefügt.\n",
    "4. Im letzten Schritt einer Iteration wird die Genauigkeit des Modells auf den Testdaten ermittelt."
   ]
  },
  {
   "cell_type": "code",
   "execution_count": 8,
   "metadata": {
    "colab": {
     "base_uri": "https://localhost:8080/"
    },
    "executionInfo": {
     "elapsed": 101932,
     "status": "ok",
     "timestamp": 1732011770294,
     "user": {
      "displayName": "Hahn Schickard",
      "userId": "17354940616293626699"
     },
     "user_tz": -60
    },
    "id": "iPWkt4tLRNc0",
    "outputId": "d1c167f5-70e3-4ca8-c946-8e4b102d96b2"
   },
   "outputs": [
    {
     "name": "stdout",
     "output_type": "stream",
     "text": [
      "Iteration: 1 - Anzahl Trainingsdaten: 6000\n",
      "\n",
      "\n",
      "Iteration: 1 - Anzahl ungelabelte Daten: 54000\n",
      "\n",
      "1688/1688 [==============================] - 2s 989us/step\n",
      "313/313 [==============================] - 0s 1ms/step\n",
      "Iteration: 1 - Testgenauigkeit: 0.9097\n",
      "\n",
      "\n",
      "Iteration: 2 - Anzahl Trainingsdaten: 45627\n",
      "\n",
      "\n",
      "Iteration: 2 - Anzahl ungelabelte Daten: 14373\n",
      "\n",
      "450/450 [==============================] - 1s 1ms/step\n",
      "313/313 [==============================] - 0s 1ms/step\n",
      "Iteration: 2 - Testgenauigkeit: 0.928\n",
      "\n",
      "\n",
      "Iteration: 3 - Anzahl Trainingsdaten: 54662\n",
      "\n",
      "\n",
      "Iteration: 3 - Anzahl ungelabelte Daten: 5338\n",
      "\n",
      "167/167 [==============================] - 0s 1ms/step\n",
      "313/313 [==============================] - 0s 1ms/step\n",
      "Iteration: 3 - Testgenauigkeit: 0.9326\n",
      "\n",
      "\n",
      "Iteration: 4 - Anzahl Trainingsdaten: 56987\n",
      "\n",
      "\n",
      "Iteration: 4 - Anzahl ungelabelte Daten: 3013\n",
      "\n",
      "95/95 [==============================] - 0s 1ms/step\n",
      "313/313 [==============================] - 0s 1ms/step\n",
      "Iteration: 4 - Testgenauigkeit: 0.9355\n",
      "\n",
      "\n",
      "Iteration: 5 - Anzahl Trainingsdaten: 58036\n",
      "\n",
      "\n",
      "Iteration: 5 - Anzahl ungelabelte Daten: 1964\n",
      "\n",
      "62/62 [==============================] - 0s 1ms/step\n",
      "313/313 [==============================] - 0s 1ms/step\n",
      "Iteration: 5 - Testgenauigkeit: 0.9351\n",
      "\n",
      "\n"
     ]
    }
   ],
   "source": [
    "for self_iter in range(5):\n",
    "    print(f'Iteration: {self_iter+1} - Anzahl Trainingsdaten: {len(X_labeled)}\\n')\n",
    "    # Training mit gelabelten Daten\n",
    "    model.fit(X_labeled, y_labeled, epochs=5, batch_size=128, validation_split=0.2, verbose=0)\n",
    "    # Vorhersagen auf unlabeled Daten\n",
    "    print(f'\\nIteration: {self_iter+1} - Anzahl ungelabelte Daten: {len(X_unlabeled)}\\n')\n",
    "    pseudo_labels = model.predict(X_unlabeled)\n",
    "    # Auswahl der zuverlässigsten Vorhersagen\n",
    "    confident_predictions = np.max(pseudo_labels, axis=1) > 0.8\n",
    "    # Hinzufügen der zuverlässigen Vorhersagen zu den gelabelten Daten\n",
    "    X_labeled = np.concatenate([X_labeled, X_unlabeled[confident_predictions]])\n",
    "    y_labeled = np.concatenate([y_labeled, np.argmax(pseudo_labels[confident_predictions], axis=1)])\n",
    "\n",
    "    # Entfernen von Daten aus X_unlabeled, die zu X_labeled hinzugefügt werden\n",
    "    X_unlabeled = X_unlabeled[~confident_predictions]\n",
    "\n",
    "    # Evaluierung auf Testdaten\n",
    "    test_accuracy = accuracy_score(y_test, np.argmax(model.predict(X_test), axis=1))\n",
    "    print(f'Iteration: {self_iter+1} - Testgenauigkeit: {test_accuracy}\\n\\n')"
   ]
  },
  {
   "cell_type": "markdown",
   "metadata": {
    "id": "9dTK8mejRNc0"
   },
   "source": [
    "## Co-Training\n"
   ]
  },
  {
   "cell_type": "markdown",
   "metadata": {
    "id": "aoQK6MsfRNc0"
   },
   "source": [
    "Laden des MNIST-Datensatzes.<br>\n",
    "Der Datensatz enthält 60.000 Trainingsbilder und -label, sowie 10.000 Testbilder und -label."
   ]
  },
  {
   "cell_type": "code",
   "execution_count": 9,
   "metadata": {
    "colab": {
     "base_uri": "https://localhost:8080/"
    },
    "executionInfo": {
     "elapsed": 585,
     "status": "ok",
     "timestamp": 1732011770878,
     "user": {
      "displayName": "Hahn Schickard",
      "userId": "17354940616293626699"
     },
     "user_tz": -60
    },
    "id": "OQ4tSNeiRNc1",
    "outputId": "934cc998-10a0-4c0a-8fe0-075bfe492822"
   },
   "outputs": [
    {
     "name": "stdout",
     "output_type": "stream",
     "text": [
      "Format der Trainingsdaten: (60000, 28, 28)\n",
      "Format der Testdaten: (10000, 28, 28)\n"
     ]
    }
   ],
   "source": [
    "(X, y), (X_test, y_test) = mnist.load_data()\n",
    "\n",
    "print(f\"Format der Trainingsdaten: {X.shape}\")\n",
    "print(f\"Format der Testdaten: {X_test.shape}\")"
   ]
  },
  {
   "cell_type": "markdown",
   "metadata": {
    "id": "xjUM-ISTRNc1"
   },
   "source": [
    "Umformen und Normalisieren der Daten."
   ]
  },
  {
   "cell_type": "code",
   "execution_count": 10,
   "metadata": {
    "colab": {
     "base_uri": "https://localhost:8080/"
    },
    "executionInfo": {
     "elapsed": 377,
     "status": "ok",
     "timestamp": 1732011771251,
     "user": {
      "displayName": "Hahn Schickard",
      "userId": "17354940616293626699"
     },
     "user_tz": -60
    },
    "id": "Qs_wdjmARNc1",
    "outputId": "3bb2d925-7d72-441a-b9b4-17f84689062e"
   },
   "outputs": [
    {
     "name": "stdout",
     "output_type": "stream",
     "text": [
      "Format der Daten vor der Umformung: (60000, 28, 28) - Min-Wert: 0 - Max-Wert: 255\n",
      "Format der Daten nach der Umformung: (60000, 28, 28) - Min-Wert: 0.0 - Max-Wert: 1.0\n"
     ]
    }
   ],
   "source": [
    "print(f\"Format der Daten vor der Umformung: {X.shape} - Min-Wert: {np.min(X)} - Max-Wert: {np.max(X)}\")\n",
    "\n",
    "X = X.astype('float32') / 255\n",
    "X_test = X_test.astype('float32') / 255\n",
    "\n",
    "print(f\"Format der Daten nach der Umformung: {X.shape} - Min-Wert: {np.min(X)} - Max-Wert: {np.max(X)}\")"
   ]
  },
  {
   "cell_type": "markdown",
   "metadata": {
    "id": "VKkGEdsvRNc1"
   },
   "source": [
    "Aufteilen der Daten in gelabelte und ungelabelte. Da Semi-Supervised Learning angewendet werden soll, wird für die ungelabelten Daten kein Label benötigt.<br>\n",
    "Hier verwenden wir nur 10% der Daten als gelabelte Daten und von 90% der Daten sollen die Label automatisiert ermittelt werden."
   ]
  },
  {
   "cell_type": "code",
   "execution_count": 11,
   "metadata": {
    "executionInfo": {
     "elapsed": 2,
     "status": "ok",
     "timestamp": 1732011771251,
     "user": {
      "displayName": "Hahn Schickard",
      "userId": "17354940616293626699"
     },
     "user_tz": -60
    },
    "id": "0RLnA5aJRNc1"
   },
   "outputs": [],
   "source": [
    "X_labeled, X_unlabeled, y_labeled, _ = train_test_split(X, y, test_size=0.9, random_state=42)"
   ]
  },
  {
   "cell_type": "markdown",
   "metadata": {
    "id": "424uSMGwRNc1"
   },
   "source": [
    "Beim Co-Training werden mehrere Modelle unabhängig voneinander trainiert, auf verschiedenen Teilmengen der Daten.<br>\n",
    "In diesem Beispiel werden zwei neuronale Netze trainiert. Eines davon erhält lediglich die linke Hälfte des Bildes, das andere die rechte Hälfte.<br>\n",
    "Die Bilder (gelabelt, ungelabelt und Test) werden hier geteilt und aus der zweidimensionalen Darstellung in eine eindimensionale Darstellung überführt, um es später so den neuronalen Netzen zu übergeben."
   ]
  },
  {
   "cell_type": "code",
   "execution_count": 12,
   "metadata": {
    "colab": {
     "base_uri": "https://localhost:8080/"
    },
    "executionInfo": {
     "elapsed": 372,
     "status": "ok",
     "timestamp": 1732011771621,
     "user": {
      "displayName": "Hahn Schickard",
      "userId": "17354940616293626699"
     },
     "user_tz": -60
    },
    "id": "B4B8JbDBRNc1",
    "outputId": "9cb159bf-0add-4afb-c199-c6750c5cadfe"
   },
   "outputs": [
    {
     "name": "stdout",
     "output_type": "stream",
     "text": [
      "Format der Daten (linke Bildhälfte): (6000, 392)\n",
      "Format der Daten (rechte Bildhälfte): (6000, 392)\n"
     ]
    }
   ],
   "source": [
    "# Bilder in linke und rechte Hälfte teilen\n",
    "X_labeled_left_half = X_labeled[:, :, :14].reshape((-1, 14 * 28))\n",
    "X_labeled_right_half = X_labeled[:, :, 14:].reshape((-1, 14 * 28))\n",
    "\n",
    "X_unlabeled_left_half = X_unlabeled[:, :, :14].reshape((-1, 14 * 28))\n",
    "X_unlabeled_right_half = X_unlabeled[:, :, 14:].reshape((-1, 14 * 28))\n",
    "\n",
    "X_test_left = X_test[:, :, :14].reshape((-1, 14 * 28))\n",
    "X_test_right = X_test[:, :, 14:].reshape((-1, 14 * 28))\n",
    "\n",
    "print(f\"Format der Daten (linke Bildhälfte): {X_labeled_left_half.shape}\")\n",
    "print(f\"Format der Daten (rechte Bildhälfte): {X_labeled_right_half.shape}\")"
   ]
  },
  {
   "cell_type": "code",
   "execution_count": 13,
   "metadata": {
    "colab": {
     "base_uri": "https://localhost:8080/",
     "height": 396
    },
    "executionInfo": {
     "elapsed": 766,
     "status": "ok",
     "timestamp": 1732011772385,
     "user": {
      "displayName": "Hahn Schickard",
      "userId": "17354940616293626699"
     },
     "user_tz": -60
    },
    "id": "Grb7IgptRNc2",
    "outputId": "6e19a2c3-3073-4a63-bf06-5945acbb4660"
   },
   "outputs": [
    {
     "data": {
      "image/png": "[encoded data removed]",
      "text/plain": [
       "<Figure size 1000x500 with 4 Axes>"
      ]
     },
     "metadata": {},
     "output_type": "display_data"
    }
   ],
   "source": [
    "plt.figure(figsize=(10, 5));\n",
    "plt.subplot(1, 4, 1);\n",
    "plt.title('Bild 1 linke Hälfte');\n",
    "plt.imshow(X_labeled_left_half[0].reshape((28, 14)), cmap='gray');\n",
    "plt.axis('off');\n",
    "\n",
    "plt.subplot(1, 4, 2);\n",
    "plt.title('Bild 1 rechte Hälfte');\n",
    "plt.imshow(X_labeled_right_half[0].reshape((28, 14)), cmap='gray');\n",
    "plt.axis('off');\n",
    "\n",
    "plt.subplot(1, 4, 3);\n",
    "plt.title('Bild 2 linke Hälfte');\n",
    "plt.imshow(X_labeled_left_half[1].reshape((28, 14)), cmap='gray');\n",
    "plt.axis('off');\n",
    "\n",
    "plt.subplot(1, 4, 4);\n",
    "plt.title('Bild 2 rechte Hälfte');\n",
    "plt.imshow(X_labeled_right_half[1].reshape((28, 14)), cmap='gray');\n",
    "plt.axis('off');"
   ]
  },
  {
   "cell_type": "markdown",
   "metadata": {
    "id": "4JBYQ3T_RNc2"
   },
   "source": [
    "Definition zweier kleiner Klassifikationsmodelle"
   ]
  },
  {
   "cell_type": "code",
   "execution_count": 14,
   "metadata": {
    "colab": {
     "base_uri": "https://localhost:8080/",
     "height": 208
    },
    "executionInfo": {
     "elapsed": 4,
     "status": "ok",
     "timestamp": 1732011772385,
     "user": {
      "displayName": "Hahn Schickard",
      "userId": "17354940616293626699"
     },
     "user_tz": -60
    },
    "id": "65J5vS1JRNc2",
    "outputId": "fc3f885f-724c-4c52-d07c-7ad3f93da861"
   },
   "outputs": [
    {
     "name": "stdout",
     "output_type": "stream",
     "text": [
      "Model: \"sequential_1\"\n",
      "_________________________________________________________________\n",
      " Layer (type)                Output Shape              Param #   \n",
      "=================================================================\n",
      " dense_2 (Dense)             (None, 64)                25152     \n",
      "                                                                 \n",
      " dense_3 (Dense)             (None, 10)                650       \n",
      "                                                                 \n",
      "=================================================================\n",
      "Total params: 25,802\n",
      "Trainable params: 25,802\n",
      "Non-trainable params: 0\n",
      "_________________________________________________________________\n"
     ]
    }
   ],
   "source": [
    "def create_base_model(input_shape):\n",
    "    model = tf.keras.Sequential([\n",
    "        tf.keras.layers.Input(shape=input_shape),\n",
    "        tf.keras.layers.Dense(64, activation='relu'),\n",
    "        tf.keras.layers.Dense(10, activation='softmax')\n",
    "    ])\n",
    "    return model\n",
    "\n",
    "model_1 = create_base_model((14 * 28,))\n",
    "model_2 = create_base_model((14 * 28,))\n",
    "\n",
    "model_1.summary()"
   ]
  },
  {
   "cell_type": "markdown",
   "metadata": {
    "id": "z90M9t3HRNc2"
   },
   "source": [
    "Kompilieren der Modelle"
   ]
  },
  {
   "cell_type": "code",
   "execution_count": 15,
   "metadata": {
    "executionInfo": {
     "elapsed": 3,
     "status": "ok",
     "timestamp": 1732011772385,
     "user": {
      "displayName": "Hahn Schickard",
      "userId": "17354940616293626699"
     },
     "user_tz": -60
    },
    "id": "heF2R3xDRNc2"
   },
   "outputs": [],
   "source": [
    "model_1.compile(optimizer='adam', loss='sparse_categorical_crossentropy', metrics=['accuracy'])\n",
    "model_2.compile(optimizer='adam', loss='sparse_categorical_crossentropy', metrics=['accuracy'])"
   ]
  },
  {
   "cell_type": "markdown",
   "metadata": {
    "id": "Q5FQCTp8RNc2"
   },
   "source": [
    "Durchführung von 5 Iteratrion des Co-Trainings mit ungelabelen Daten.<br>\n",
    "Im Folgenden werden die einzelnen Schritte einer Iteration beschrieben:<br>\n",
    "1. Die Modelle werden im ersten Schritt mit den gelabelten Daten trainiert. Das eine mit der linken Hälfte, das andere mit der rechten Hälfte der Bilder.\n",
    "2. Anschließend werden für die ungelabelten Daten die möglichen Label durch die Modell ermittelt.\n",
    "3. Ist die Vorhersage mindestens eines Modells gut genug werden die jeweiligen Daten den gelabelten Daten hinzugefügt.\n",
    "4. Im letzten Schritt einer Iteration wird die Genauigkeit der Modelle auf den Testdaten ermittelt."
   ]
  },
  {
   "cell_type": "code",
   "execution_count": 16,
   "metadata": {
    "colab": {
     "base_uri": "https://localhost:8080/"
    },
    "executionInfo": {
     "elapsed": 161969,
     "status": "ok",
     "timestamp": 1732011934351,
     "user": {
      "displayName": "Hahn Schickard",
      "userId": "17354940616293626699"
     },
     "user_tz": -60
    },
    "id": "aEbJGE6HRNc2",
    "outputId": "0f01ba67-09c3-41ee-da14-2d2c5fb26ba4"
   },
   "outputs": [
    {
     "name": "stdout",
     "output_type": "stream",
     "text": [
      "Iteration: 1 - Anzahl Trainingsdaten obere/untere Hälfte: 6000/6000\n",
      "\n",
      "Iteration: 1 - Training Model 1\n",
      "\n",
      "Iteration: 1 - Training Model 2\n",
      "\n",
      "Iteration: 1 - Anzahl ungelabelte Daten: 54000\n",
      "1688/1688 [==============================] - 2s 1ms/step\n",
      "1688/1688 [==============================] - 2s 1ms/step\n",
      "313/313 [==============================] - 1s 2ms/step\n",
      "313/313 [==============================] - 0s 1ms/step\n",
      "Iteration: 1 - Testgenauigkeit Model 1: 0.8612\n",
      "Iteration: 1 - Testgenauigkeit Model 2: 0.8554\n",
      "\n",
      "\n",
      "Iteration: 2 - Anzahl Trainingsdaten obere/untere Hälfte: 31461/31461\n",
      "\n",
      "Iteration: 2 - Training Model 1\n",
      "\n",
      "Iteration: 2 - Training Model 2\n",
      "\n",
      "Iteration: 2 - Anzahl ungelabelte Daten: 28493\n",
      "891/891 [==============================] - 1s 1ms/step\n",
      "891/891 [==============================] - 1s 1ms/step\n",
      "313/313 [==============================] - 0s 1ms/step\n",
      "313/313 [==============================] - 0s 1ms/step\n",
      "Iteration: 2 - Testgenauigkeit Model 1: 0.8961\n",
      "Iteration: 2 - Testgenauigkeit Model 2: 0.8871\n",
      "\n",
      "\n",
      "Iteration: 3 - Anzahl Trainingsdaten obere/untere Hälfte: 46114/46114\n",
      "\n",
      "Iteration: 3 - Training Model 1\n",
      "\n",
      "Iteration: 3 - Training Model 2\n",
      "\n",
      "Iteration: 3 - Anzahl ungelabelte Daten: 13762\n",
      "431/431 [==============================] - 0s 1ms/step\n",
      "431/431 [==============================] - 0s 1ms/step\n",
      "313/313 [==============================] - 0s 1ms/step\n",
      "313/313 [==============================] - 1s 2ms/step\n",
      "Iteration: 3 - Testgenauigkeit Model 1: 0.9078\n",
      "Iteration: 3 - Testgenauigkeit Model 2: 0.8929\n",
      "\n",
      "\n",
      "Iteration: 4 - Anzahl Trainingsdaten obere/untere Hälfte: 51788/51788\n",
      "\n",
      "Iteration: 4 - Training Model 1\n",
      "\n",
      "Iteration: 4 - Training Model 2\n",
      "\n",
      "Iteration: 4 - Anzahl ungelabelte Daten: 8028\n",
      "251/251 [==============================] - 0s 1ms/step\n",
      "251/251 [==============================] - 0s 1ms/step\n",
      "313/313 [==============================] - 0s 1ms/step\n",
      "313/313 [==============================] - 0s 1ms/step\n",
      "Iteration: 4 - Testgenauigkeit Model 1: 0.9107\n",
      "Iteration: 4 - Testgenauigkeit Model 2: 0.9021\n",
      "\n",
      "\n",
      "Iteration: 5 - Anzahl Trainingsdaten obere/untere Hälfte: 54296/54296\n",
      "\n",
      "Iteration: 5 - Training Model 1\n",
      "\n",
      "Iteration: 5 - Training Model 2\n",
      "\n",
      "Iteration: 5 - Anzahl ungelabelte Daten: 5498\n",
      "172/172 [==============================] - 0s 1ms/step\n",
      "172/172 [==============================] - 0s 1ms/step\n",
      "313/313 [==============================] - 0s 1ms/step\n",
      "313/313 [==============================] - 0s 1ms/step\n",
      "Iteration: 5 - Testgenauigkeit Model 1: 0.9105\n",
      "Iteration: 5 - Testgenauigkeit Model 2: 0.9019\n",
      "\n",
      "\n"
     ]
    }
   ],
   "source": [
    "for co_iter in range(5):\n",
    "\n",
    "    print(f'Iteration: {co_iter+1} - Anzahl Trainingsdaten obere/untere Hälfte: {len(X_labeled_left_half)}/{len(X_labeled_right_half)}\\n')\n",
    "    # Training von model_1 mit gelabelten Daten (linke Hälfte)\n",
    "    print(f'Iteration: {co_iter+1} - Training Model 1')\n",
    "    model_1.fit(X_labeled_left_half, y_labeled, epochs=10, batch_size=128, validation_split=0.2, verbose=0)\n",
    "    # Training von model_2 mit gelabelten Daten (rechte Hälfte)\n",
    "    print(f'\\nIteration: {co_iter+1} - Training Model 2')\n",
    "    model_2.fit(X_labeled_right_half, y_labeled, epochs=10, batch_size=128, validation_split=0.2, verbose=0)\n",
    "\n",
    "    print(f'\\nIteration: {co_iter+1} - Anzahl ungelabelte Daten: {len(X_unlabeled_left_half)}')\n",
    "    # Vorhersagen auf unlabeled Daten für beide Modelle\n",
    "    pseudo_labels_1 = model_1.predict(X_unlabeled_left_half)\n",
    "    pseudo_labels_2 = model_2.predict(X_unlabeled_right_half)\n",
    "\n",
    "    # Auswahl der zuverlässigsten Vorhersagen\n",
    "    confident_predictions1 = np.max(pseudo_labels_1, axis=1) > 0.95\n",
    "    confident_predictions2 = np.max(pseudo_labels_2, axis=1) > 0.95\n",
    "\n",
    "    # Daten und pseudo label erhalten, wenn beide Modelle zuversichtlich sind\n",
    "    confident_pred_and = confident_predictions1 & confident_predictions2\n",
    "    same_labels_and = np.argmax(pseudo_labels_1[confident_pred_and], axis=1) == np.argmax(pseudo_labels_2[confident_pred_and], axis=1)\n",
    "    X_unlabeled_left_half_and = X_unlabeled_left_half[confident_pred_and][same_labels_and]\n",
    "    X_unlabeled_right_half_and = X_unlabeled_right_half[confident_pred_and][same_labels_and]\n",
    "    pseudo_labels_and = np.argmax(pseudo_labels_1[confident_pred_and], axis=1)[same_labels_and]\n",
    "\n",
    "    # Daten und pseudo label erhalten, wenn ein Modell zuversichtlich ist\n",
    "    confident_pred_dif = confident_predictions1 != confident_predictions2\n",
    "    X_unlabeled_left_half_1_dif = X_unlabeled_left_half[confident_predictions1&confident_pred_dif]\n",
    "    X_unlabeled_right_half_1_dif = X_unlabeled_right_half[confident_predictions1&confident_pred_dif]\n",
    "    pseudo_labels_1_dif = np.argmax(pseudo_labels_1[confident_predictions1&confident_pred_dif], axis=1)\n",
    "    X_unlabeled_left_half_2_dif = X_unlabeled_left_half[confident_predictions2&confident_pred_dif]\n",
    "    X_unlabeled_right_half_2_dif = X_unlabeled_right_half[confident_predictions2&confident_pred_dif]\n",
    "    pseudo_labels_2_dif = np.argmax(pseudo_labels_2[confident_predictions2&confident_pred_dif], axis=1)\n",
    "\n",
    "\t# Kombinieren der zuversichtlichen Vorhersagen\n",
    "    combined_confident_preds = confident_pred_and | confident_pred_dif\n",
    "\n",
    "    # Hinzufügen der zuverlässigen Vorhersagen zu den gelabelten Daten\n",
    "    X_labeled_left_half = np.concatenate([X_labeled_left_half, X_unlabeled_left_half_and, X_unlabeled_left_half_1_dif, X_unlabeled_left_half_2_dif])\n",
    "    X_labeled_right_half = np.concatenate([X_labeled_right_half, X_unlabeled_right_half_and, X_unlabeled_right_half_1_dif, X_unlabeled_right_half_2_dif])\n",
    "    y_labeled = np.concatenate([y_labeled, pseudo_labels_and, pseudo_labels_1_dif, pseudo_labels_2_dif])\n",
    "\n",
    "    # Entfernen von Daten aus X_unlabeled, die zu X_labeled hinzugefügt werden\n",
    "    X_unlabeled_left_half = X_unlabeled_left_half[~combined_confident_preds]\n",
    "    X_unlabeled_right_half = X_unlabeled_right_half[~combined_confident_preds]\n",
    "\n",
    "    # Evaluierung auf Testdaten\n",
    "    test_accuracy_model_1 = accuracy_score(y_test, np.argmax(model_1.predict(X_test_left), axis=1))\n",
    "    test_accuracy_model_2 = accuracy_score(y_test, np.argmax(model_2.predict(X_test_right), axis=1))\n",
    "\n",
    "    print(f'Iteration: {co_iter+1} - Testgenauigkeit Model 1: {test_accuracy_model_1}')\n",
    "    print(f'Iteration: {co_iter+1} - Testgenauigkeit Model 2: {test_accuracy_model_2}\\n\\n')\n",
    "\n",
    "    # Wenn weniger als 100 unlabeled Datenpunkte vorhanden sind, Schleife beenden\n",
    "    if len(X_unlabeled_left_half) < 100:\n",
    "        break"
   ]
  }
 ],
 "metadata": {
  "colab": {
   "provenance": []
  },
  "kernelspec": {
   "display_name": "Code_test_310",
   "language": "python",
   "name": "python3"
  },
  "language_info": {
   "codemirror_mode": {
    "name": "ipython",
    "version": 3
   },
   "file_extension": ".py",
   "mimetype": "text/x-python",
   "name": "python",
   "nbconvert_exporter": "python",
   "pygments_lexer": "ipython3",
   "version": "3.10.14"
  }
 },
 "nbformat": 4,
 "nbformat_minor": 0
}
